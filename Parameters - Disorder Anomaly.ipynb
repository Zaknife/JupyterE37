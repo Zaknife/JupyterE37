{
 "cells": [
  {
   "cell_type": "code",
   "execution_count": 12,
   "metadata": {
    "collapsed": false
   },
   "outputs": [],
   "source": [
    "import numpy as np\n",
    "import matplotlib.pyplot as plt\n",
    "import matplotlib\n",
    "import math\n",
    "matplotlib.rcParams.update({'font.size': 20})\n",
    "%matplotlib inline"
   ]
  },
  {
   "cell_type": "code",
   "execution_count": 13,
   "metadata": {
    "collapsed": false
   },
   "outputs": [],
   "source": [
    "e = (1.60217733e-19)*2997924580;\n",
    "eSI = 1.60217733e-19; #(*Cl*)\n",
    "hb = 1.05457266e-27; #(*cm**2 g/s*)\n",
    "kB = 1.38065e-16;#(*erg K**-1*)\n",
    "me = 9.109389e-28; #(*g*)\n",
    "muB = 9.274e-21;#(*erg Oe**-1*);\n",
    "gMn = 2;#(*czynnik Landego dla Mn*)\n",
    "gL = 0.52;#(*czynnik Landego dla elektronów*)\n",
    "c = 2.9979245800e10;#(*cm/s*)\n",
    "##(*parametry materialowe dla próbki*)\n",
    "mr = 1; #(*0.22;*)(*zredukowana masa efektywna*)(*0.22 dla GaN*)(*0.13 dla CdSe*)\n",
    "n = 5e20;#(*cm**-3 koncentracja nośników*) (*8.6 10**(17+6) dla CdSe*) (*1.15 10**25  dla GaN*)\n",
    "N0 = 2.21e22; #(*koncentracja kationów cm**-3*)\n",
    "Nmn = 0.06*N0;#(*koncentracja Mn cm**-3*)\n",
    "Jmn = 2.5; #(*spin Mn w stanie Mn2+*)\n",
    "Jmn0 = 1.48;\n",
    "eps0 = 9.4;\n",
    "T0 = 1.25;\n",
    "Tc=130;\n",
    "g1 = .67;\n",
    "g2 = 1;\n",
    "g3 = 1;\n",
    "g4 = 0.13;\n",
    "alf=(0.054e7*eSI/N0); #(*Calka Wymiany *)\n",
    "taup=3.71267e-15;\n",
    "kF = math.pow((3*math.pi**2*n),0.333334);#(*wektor fermiego*)\n",
    "Ef = (hb**2*kF**2)/(2*me*mr);#(*energia Fermiego*)\n",
    "DD = 2./3*(Ef*taup)/(me*mr);#(*stała dyfuzji*)\n",
    "aB = (4*math.pi*eps0*hb**2)/((me*mr)*e**2); #(*Promień Bohra dla \\półprzewodnika*)\n",
    "vF = (hb*kF)/(me*mr); #(*prędkość Fermiego*)\n",
    "L=hb/(2*math.pi*Ef*taup);#(*parametr lambda = 1/2math.pi kf l*)     \n",
    "mu=(e*taup)/(me*mr);#(*cm**2/Vs ruchliwość*)\n",
    "sigma0=e*n*mu;#(*przewodnictwo z modelu Drudego*)"
   ]
  },
  {
   "cell_type": "code",
   "execution_count": 18,
   "metadata": {
    "collapsed": false
   },
   "outputs": [
    {
     "data": {
      "text/plain": [
       "0.7717313750345558"
      ]
     },
     "execution_count": 18,
     "metadata": {},
     "output_type": "execute_result"
    }
   ],
   "source": [
    "#kF l\n",
    "L*2*math.pi"
   ]
  },
  {
   "cell_type": "code",
   "execution_count": 3,
   "metadata": {
    "collapsed": true
   },
   "outputs": [],
   "source": [
    "#Tauphi\n",
    "def tauphi(T):\n",
    "    tauphi=1/(np.sqrt(T)*10**(7))\n",
    "    return tauphi"
   ]
  },
  {
   "cell_type": "code",
   "execution_count": 10,
   "metadata": {
    "collapsed": false
   },
   "outputs": [
    {
     "data": {
      "text/plain": [
       "<matplotlib.text.Text at 0x1b53c178550>"
      ]
     },
     "execution_count": 10,
     "metadata": {},
     "output_type": "execute_result"
    },
    {
     "data": {
      "image/png": "[encoded data removed]",
      "text/plain": [
       "<matplotlib.figure.Figure at 0x1b53c110a58>"
      ]
     },
     "metadata": {},
     "output_type": "display_data"
    }
   ],
   "source": [
    "T1=np.linspace(120,140,20)\n",
    "plt.plot(T1,tauphi(T1))\n",
    "plt.xlabel(r'T (K)',fontsize=20)\n",
    "plt.ylabel(r'$\\tau_{\\varphi}$ (s)',fontsize=20)"
   ]
  },
  {
   "cell_type": "code",
   "execution_count": null,
   "metadata": {
    "collapsed": true
   },
   "outputs": [],
   "source": []
  }
 ],
 "metadata": {
  "kernelspec": {
   "display_name": "Python [Root]",
   "language": "python",
   "name": "Python [Root]"
  },
  "language_info": {
   "codemirror_mode": {
    "name": "ipython",
    "version": 3
   },
   "file_extension": ".py",
   "mimetype": "text/x-python",
   "name": "python",
   "nbconvert_exporter": "python",
   "pygments_lexer": "ipython3",
   "version": "3.5.2"
  }
 },
 "nbformat": 4,
 "nbformat_minor": 0
}
